{
 "cells": [
  {
   "cell_type": "markdown",
   "metadata": {
    "collapsed": true,
    "id": "Dh8MkXaG-c9Y"
   },
   "source": [
    "# Ciencia de datos (CC408) - Primavera 2024\n",
    "\n",
    "## Trabajo Práctico 1 - Parte 2"
   ]
  },
  {
   "cell_type": "markdown",
   "metadata": {
    "id": "RhBlm6mZ-c9e"
   },
   "source": [
    "### Reglas de formato y presentación\n",
    "- El trabajo debe estar debidamente documentado comentado (utilizando #) para que tanto los docentes como sus compañeros puedan comprender el código fácilmente.\n",
    "\n",
    "- El mismo debe ser completado en este Jupyter Notebook y entregado como tal, es decir en un archivo .ipynb\n"
   ]
  },
  {
   "cell_type": "markdown",
   "metadata": {
    "id": "ZEjGaa4U-c9g"
   },
   "source": [
    "### Fecha de entrega:\n",
    "Domingo Domingo 8 de septiembre a las 23:59hs"
   ]
  },
  {
   "cell_type": "markdown",
   "metadata": {
    "id": "N9TU2y7E-c9h"
   },
   "source": [
    "### Modalidad de entrega\n",
    "- Al finalizar el trabajo práctico deben hacer un último <i>commit</i> en su repositorio de GitHub llamado “Entrega final del tp”. \n",
    "- Asegurense de haber creado una carpeta llamada TP1. Este Jupyter Notebook y el correspondiente al TP1 - Parte 2 deben estar dentro de esa carpeta.\n",
    "- También deben enviar el link de su repositorio -para que pueda ser clonado y corregido- al siguiente email: ispiousas@udesa.edu.ar\n",
    "- La última versión en el repositorio es la que será evaluada. Por lo que es importante que: \n",
    "    - No envien el correo hasta no haber terminado y estar seguros de que han hecho el <i>commit y push</i> a la versión final que quieren entregar. Debido a que se pueden tomar hasta 3 días de extensión a lo largo del curso, no se corregirán sus tareas hasta no recibir el correo.\n",
    "    - No hagan nuevos <i>push</i> despues de haber entregado su versión final. Esto generaría confusión acerca de que versión es la que quieren que se les corrija. "
   ]
  },
  {
   "cell_type": "markdown",
   "metadata": {},
   "source": [
    "### Parte A"
   ]
  },
  {
   "cell_type": "markdown",
   "metadata": {
    "id": "ZXbrPraa-c9i"
   },
   "source": [
    "#### Ejercicio 1\n",
    "Usando la API de Mercado Libre, obtener los ítems de una consulta de búsqueda. Pueden buscar cualquier producto de su interés."
   ]
  },
  {
   "cell_type": "code",
   "execution_count": 2,
   "metadata": {},
   "outputs": [
    {
     "name": "stdout",
     "output_type": "stream",
     "text": [
      "Producto: Notebook Exo Q9-3182 Intel I3 12va 8gb Ssd256gb 15,6 W11 Color Gris\n",
      "Precio: 736959 ARS\n",
      "Link: https://www.mercadolibre.com.ar/notebook-exo-q9-3182-intel-i3-12va-8gb-ssd256gb-156-w11-color-gris/p/MLA38616378#wid=MLA1868579394&sid=unknown\n",
      "\n",
      "Producto: Netbook Exomate X5-s1441p Intel N4020c 4gb Ssd128gb 11,6 W11 Color Gris\n",
      "Precio: 329999 ARS\n",
      "Link: https://www.mercadolibre.com.ar/netbook-exomate-x5-s1441p-intel-n4020c-4gb-ssd128gb-116-w11-color-gris/p/MLA35101893#wid=MLA1848679454&sid=unknown\n",
      "\n",
      "Producto: Notebook Asus Vivobook 14 Intel Core I3 1215u, 8gb De Ram, 128gb Ssd, Full Hd,  Windows 11 Home\n",
      "Precio: 748999 ARS\n",
      "Link: https://www.mercadolibre.com.ar/notebook-asus-vivobook-14-intel-core-i3-1215u-8gb-de-ram-128gb-ssd-full-hd-windows-11-home/p/MLA35741114#wid=MLA1808333808&sid=unknown\n",
      "\n",
      "Producto: Lenovo Ideapad Amd Ryzen 5 5500u (4.0 Ghz) 8gb Ram 512gb Ssd Color Plateado\n",
      "Precio: 869499 ARS\n",
      "Link: https://www.mercadolibre.com.ar/lenovo-ideapad-amd-ryzen-5-5500u-40-ghz-8gb-ram-512gb-ssd-color-plateado/p/MLA37328049#wid=MLA1816362692&sid=unknown\n",
      "\n",
      "Producto: Notebook Gamer Rog Strix G15 G513rc-hn091w 15.6 Ryzen 7 6800h 16gb  512gb Ssd Nvidia Geforce Rtx 3050 144 Hz W11\n",
      "Precio: 2254099 ARS\n",
      "Link: https://www.mercadolibre.com.ar/notebook-gamer-rog-strix-g15-g513rc-hn091w-156-ryzen-7-6800h-16gb-512gb-ssd-nvidia-geforce-rtx-3050-144-hz-w11/p/MLA22379039#wid=MLA1744957600&sid=unknown\n",
      "\n",
      "Producto: Notebook Dell Latitude 3540 Intel Core I7 1355u 64gb De Ram 2tb Ssd Intel Iris Xe Graphics 96eu 39.6 Cm (15.6 ) Full Hd 1920x1080px Wi-fi 6e (802.11ax) Teclado Español Windows 11 Pro Color Gris Oscuro\n",
      "Precio: 2064836 ARS\n",
      "Link: https://www.mercadolibre.com.ar/notebook-dell-latitude-3540-intel-core-i7-1355u-64gb-de-ram-2tb-ssd-intel-iris-xe-graphics-96eu-396-cm-156-full-hd-1920x1080px-wi-fi-6e-80211ax-teclado-espanol-windows-11-pro-color-gris-oscuro/p/MLA39012620#wid=MLA1874243272&sid=unknown\n",
      "\n",
      "Producto: Notebook Inspiron 3525 15.5  Color Plata 32gb De Ram - 256gb Ssd - Amd Ryzen 5\n",
      "Precio: 1170679 ARS\n",
      "Link: https://www.mercadolibre.com.ar/notebook-inspiron-3525-155-color-plata-32gb-de-ram-256gb-ssd-amd-ryzen-5/p/MLA27953370#wid=MLA1809099144&sid=unknown\n",
      "\n",
      "Producto: Notebook Lenovo Ideapad 1, Intel Core I3 1215u, Pantalla 15.6  Táctil Full Hd, 8gb Ram, Ssd 256gb, Windows 11\n",
      "Precio: 867999 ARS\n",
      "Link: https://www.mercadolibre.com.ar/notebook-lenovo-ideapad-1-intel-core-i3-1215u-pantalla-156-tactil-full-hd-8gb-ram-ssd-256gb-windows-11/p/MLA37834136#wid=MLA1882627440&sid=unknown\n",
      "\n",
      "Producto: Notebook Acer Aspire Ryzen 7 5700u 16gb 512gb 15,6' Fhd Gris Color Plateado\n",
      "Precio: 1260999 ARS\n",
      "Link: https://www.mercadolibre.com.ar/notebook-acer-aspire-ryzen-7-5700u-16gb-512gb-156-fhd-gris-color-plateado/p/MLA35478000#wid=MLA1436634021&sid=unknown\n",
      "\n",
      "Producto: Notebook Noblex N14x1010 14.1 Hd Intel Celeron 4gb/128gb Sdd\n",
      "Precio: 490999 ARS\n",
      "Link: https://www.mercadolibre.com.ar/notebook-noblex-n14x1010-141-hd-intel-celeron-4gb128gb-sdd/p/MLA37505961#wid=MLA1805429012&sid=unknown\n",
      "\n"
     ]
    }
   ],
   "source": [
    "# Resolver acá\n",
    "import requests\n",
    "\n",
    "url = \"https://api.mercadolibre.com/sites/MLA/search\"\n",
    "\n",
    "params = {\n",
    "    'q': 'laptop',  \n",
    "    'limit': 10     \n",
    "}\n",
    "\n",
    "response = requests.get(url, params=params)\n",
    "\n",
    "if response.status_code == 200:\n",
    "    data = response.json()\n",
    "    \n",
    "    precios = []\n",
    "    \n",
    "    for item in data['results']:\n",
    "        precios.append(item['price'])\n",
    "        print(f\"Producto: {item['title']}\")\n",
    "        print(f\"Precio: {item['price']} {item['currency_id']}\")\n",
    "        print(f\"Link: {item['permalink']}\\n\")\n",
    "else:\n",
    "    print(\"Error en la solicitud:\", response.status_code)\n",
    "\n"
   ]
  },
  {
   "cell_type": "markdown",
   "metadata": {},
   "source": [
    "#### Ejercicio 2\n",
    "Guarden los precios de los ítems obtenidos en un dataframe y calculen el precio promedio, el mínimo y el máximo. "
   ]
  },
  {
   "cell_type": "code",
   "execution_count": 3,
   "metadata": {},
   "outputs": [
    {
     "name": "stdout",
     "output_type": "stream",
     "text": [
      "\n",
      "Estadísticas de Precios:\n",
      "Precio Mínimo: 329999\n",
      "Precio Máximo: 2254099\n",
      "Precio Promedio: 1079506.7\n"
     ]
    }
   ],
   "source": [
    "# Resolver acá\n",
    "\n",
    "import pandas as pd\n",
    "\n",
    "df = pd.DataFrame(precios, columns=['Precio'])\n",
    "    \n",
    "precio_min = df['Precio'].min()\n",
    "precio_max = df['Precio'].max()\n",
    "precio_prom = df['Precio'].mean()\n",
    "    \n",
    "print(\"\\nEstadísticas de Precios:\")\n",
    "print(f\"Precio Mínimo: {precio_min}\")\n",
    "print(f\"Precio Máximo: {precio_max}\")\n",
    "print(f\"Precio Promedio: {precio_prom}\")"
   ]
  },
  {
   "cell_type": "markdown",
   "metadata": {},
   "source": [
    "#### Ejercicio 3\n",
    "Armen un histograma de los precios. ¿Ven algún <i>outlier<i>? \n",
    "Nota: pueden usar la librería de Matplotlib o la de Pandas."
   ]
  },
  {
   "cell_type": "code",
   "execution_count": 63,
   "metadata": {},
   "outputs": [
    {
     "data": {
      "text/plain": [
       "(array([2., 0., 1., 2., 1., 2., 1., 0., 0., 1.]),\n",
       " array([ 329999. ,  503482.7,  676966.4,  850450.1, 1023933.8, 1197417.5,\n",
       "        1370901.2, 1544384.9, 1717868.6, 1891352.3, 2064836. ]),\n",
       " <BarContainer object of 10 artists>)"
      ]
     },
     "execution_count": 63,
     "metadata": {},
     "output_type": "execute_result"
    },
    {
     "data": {
      "image/png": "[encoded data removed]",
      "text/plain": [
       "<Figure size 640x480 with 1 Axes>"
      ]
     },
     "metadata": {},
     "output_type": "display_data"
    }
   ],
   "source": [
    "# Resolver acá\n",
    "\n",
    "import matplotlib.pyplot as plt\n",
    "\n",
    "df = pd.DataFrame(precios, columns=['Precio'])\n",
    "plt.hist(df['Precio'], bins=10, color='blue', edgecolor='black')\n",
    "\n",
    "#"
   ]
  },
  {
   "cell_type": "markdown",
   "metadata": {},
   "source": [
    "#### Ejercicio 4\n",
    "Realicen alguna consulta adicional utilizando la API de Mercado Libre (debe ser alguna consulta que no se haya visto en clase. Por ejemplo, obtener los ítems de un vendedor en particular, obtener los productos de una categoría u otros). \n",
    "\n",
    "Analicen los resultados y comenten uno o dos que les parezcan interesantes (por ejemplo, precios promedio de los productos de un vendedor, diferencia entre el precio original y actual, si acepta mercado pago para la compra de productos, etc.) "
   ]
  },
  {
   "cell_type": "code",
   "execution_count": 11,
   "metadata": {},
   "outputs": [
    {
     "name": "stdout",
     "output_type": "stream",
     "text": [
      "ID del vendedor encontrado: 608885756\n",
      "Nombre: Elvive Sérum  Nutrición  100 Ml\n",
      "Precio: $12224\n",
      "Acepta Mercado Pago: Sí\n",
      "Link: https://www.mercadolibre.com.ar/elvive-serum-nutricion-100-ml/p/MLA17378222#wid=MLA1106024561&sid=unknown\n",
      "\n",
      "Nombre: Kit Elvive Glycolic Gloss Rutina Brillo Intenso\n",
      "Precio: $18499\n",
      "Acepta Mercado Pago: Sí\n",
      "Link: https://www.mercadolibre.com.ar/kit-elvive-glycolic-gloss-rutina-brillo-intenso/p/MLA39189184#wid=MLA1442043061&sid=unknown\n",
      "\n",
      "Nombre: Nivea Sun Control Anti Brillo Sin Color Protector Solar Facial 50 Fps 50ml\n",
      "Precio: $13392.86\n",
      "Acepta Mercado Pago: Sí\n",
      "Link: https://www.mercadolibre.com.ar/nivea-sun-control-anti-brillo-sin-color-protector-solar-facial-50-fps-50ml/p/MLA16189493#wid=MLA1212029383&sid=unknown\n",
      "\n",
      "Nombre: Nautica Voyage Edt 100 Ml Para Hombre\n",
      "Precio: $41400\n",
      "Acepta Mercado Pago: Sí\n",
      "Link: https://www.mercadolibre.com.ar/nautica-voyage-edt-100-ml-para-hombre/p/MLA8729164#wid=MLA1516094138&sid=unknown\n",
      "\n",
      "Nombre: Sérum Anti-imperfecciones Con Ácido Salicílico De Garnier\n",
      "Precio: $18060\n",
      "Acepta Mercado Pago: Sí\n",
      "Link: https://www.mercadolibre.com.ar/serum-anti-imperfecciones-con-acido-salicilico-de-garnier/p/MLA22843182#wid=MLA1801763456&sid=unknown\n",
      "\n"
     ]
    }
   ],
   "source": [
    "# Resolver acá\n",
    "import requests\n",
    "\n",
    "# Término de búsqueda (ejemplo)\n",
    "termino_busqueda = \"Mascarilla Kerastase\"  # Reemplaza con el término de búsqueda deseado\n",
    "\n",
    "# Paso 1: Buscar el ID del vendedor\n",
    "url_busqueda = f\"https://api.mercadolibre.com/sites/MLA/search?q={termino_busqueda}&limit=1\"\n",
    "\n",
    "response_busqueda = requests.get(url_busqueda)\n",
    "\n",
    "if response_busqueda.status_code == 200:\n",
    "    # Parsear la respuesta en formato JSON\n",
    "    data_busqueda = response_busqueda.json()\n",
    "    \n",
    "    # Obtener el primer producto en los resultados\n",
    "    if data_busqueda['results']:\n",
    "        primer_producto = data_busqueda['results'][0]\n",
    "        vendedor_id = primer_producto['seller']['id']\n",
    "        \n",
    "        print(f\"ID del vendedor encontrado: {vendedor_id}\")\n",
    "\n",
    "        # Paso 2: Obtener los productos del vendedor\n",
    "        url_productos = f\"https://api.mercadolibre.com/sites/MLA/search?seller_id={vendedor_id}&limit=50\"\n",
    "\n",
    "        response_productos = requests.get(url_productos)\n",
    "\n",
    "        if response_productos.status_code == 200:\n",
    "            # Parsear la respuesta en formato JSON\n",
    "            data_productos = response_productos.json()\n",
    "            \n",
    "            # Obtener la lista de productos\n",
    "            productos = data_productos['results']\n",
    "            \n",
    "            # Mostrar información sobre los primeros productos\n",
    "            for producto in productos[:5]:  # Solo mostramos los primeros 5 productos\n",
    "                print(f\"Nombre: {producto['title']}\")\n",
    "                print(f\"Precio: ${producto['price']}\")\n",
    "                print(f\"Acepta Mercado Pago: {'Sí' if producto['accepts_mercadopago'] else 'No'}\")\n",
    "                print(f\"Link: {producto['permalink']}\\n\")\n",
    "        else:\n",
    "            print(\"Error al realizar la consulta a la API para obtener productos del vendedor. Estado:\", response_productos.status_code)\n",
    "    else:\n",
    "        print(\"No se encontraron productos para el término de búsqueda proporcionado.\")\n",
    "else:\n",
    "    print(\"Error al realizar la consulta a la API para buscar el vendedor. Estado:\", response_busqueda.status_code)"
   ]
  },
  {
   "cell_type": "markdown",
   "metadata": {},
   "source": [
    "### Parte B"
   ]
  },
  {
   "cell_type": "markdown",
   "metadata": {},
   "source": [
    "#### Ejercicio 5\n",
    "De la página de noticias del [diario La Nación](https://www.lanacion.com.ar/), utilicen herramientas de web scraping para obtener los links de las noticias de la portada. Guarden los links obtenidos en un dataframe y expórtenlo a un archivo de excel.\n",
    "\n",
    "Nota 1: es posible que logren obtener los links a las noticias sin el dominio: \"https://www.lanacion.com.ar/\". De ser así, concatenen el dominio a la ruta del link obtenido, tal que se obtenga un link al que se pueda acceder. Es decir, que las cadenas de caracteres finales tendrán la forma: https://www.lanacion.com.ar/*texto_obtenido*)\n",
    "\n",
    "Nota 2: junto con su entrega, adjunten una captura de la página de noticias al momento de correr su código. Eso servirá al momento de la corrección para verificar que los links obtenidos hacen referencia a las noticias de ese día y hora.\n"
   ]
  },
  {
   "cell_type": "code",
   "execution_count": 34,
   "metadata": {},
   "outputs": [
    {
     "name": "stdout",
     "output_type": "stream",
     "text": [
      "Archivo Excel creado con éxito.\n",
      "                                                Links\n",
      "0               https://www.lanacion.com.ar/politica/\n",
      "1               https://www.lanacion.com.ar/economia/\n",
      "2         https://www.lanacion.com.ar/economia/campo/\n",
      "3   https://www.lanacion.com.ar/economia/comercio-...\n",
      "4        https://www.lanacion.com.ar/economia/indices\n",
      "..                                                ...\n",
      "86              https://www.lanacion.com.ar/economia/\n",
      "87              https://www.lanacion.com.ar/el-mundo/\n",
      "88              https://www.lanacion.com.ar/sociedad/\n",
      "89              https://www.lanacion.com.ar/deportes/\n",
      "90             https://www.lanacion.com.ar/lifestyle/\n",
      "\n",
      "[91 rows x 1 columns]\n"
     ]
    }
   ],
   "source": [
    "# Resolver acá\n",
    "\n",
    "import requests #html requestor\n",
    "from bs4 import BeautifulSoup #html parser\n",
    "import pandas as pd #dataframe manipulator\n",
    "\n",
    "# URL de la página principal de La Nación\n",
    "url = 'https://www.lanacion.com.ar/'\n",
    "\n",
    "# Realizar la solicitud a la página para obtener el contenido de la página web y lo guarda en response\n",
    "contenido = requests.get(url)\n",
    "\n",
    "# Crear el objeto BeautifulSoup para analizar el contenido de la página\n",
    "soup = BeautifulSoup(contenido.text, 'html.parser')\n",
    "\n",
    "# Categorías de noticias a filtrar\n",
    "categorias = ['economia', 'politica', 'deportes', 'sociedad', 'cultura', 'espectáculos', 'el-mundo', 'opinión', 'lifestyle']\n",
    "\n",
    "# Encontrar todos los enlaces en la portada\n",
    "links = []\n",
    "for link in soup.find_all('a', href=True):\n",
    "    href = link['href']\n",
    "    if href.startswith('/'):\n",
    "        # Si el link no tiene el dominio, concatenarlo\n",
    "        full_link = 'https://www.lanacion.com.ar' + href\n",
    "    elif href.startswith('http'):\n",
    "        full_link = href\n",
    "    else:\n",
    "        continue  # Si el enlace no es válido, lo ignoramos\n",
    "\n",
    "    # Filtrar solo los enlaces que contienen alguna de las categorías deseadas\n",
    "    if any(categoria in full_link for categoria in categorias) and not any(excluded in full_link for excluded in ['clima', 'cartelera', 'servicios']):\n",
    "        links.append(full_link)\n",
    "\n",
    "# Crear un dataframe con los links\n",
    "df = pd.DataFrame(links, columns=['Links'])\n",
    "\n",
    "# Guardar el dataframe en un archivo Excel\n",
    "df.to_excel('links_lanacion.xlsx', index=False)\n",
    "\n",
    "print(\"Archivo Excel creado con éxito.\")\n",
    "print(df)"
   ]
  },
  {
   "cell_type": "code",
   "execution_count": null,
   "metadata": {},
   "outputs": [],
   "source": []
  }
 ],
 "metadata": {
  "anaconda-cloud": {},
  "colab": {
   "name": "TP1 - Parte 1.ipynb",
   "provenance": []
  },
  "kernelspec": {
   "display_name": "Python 3 (ipykernel)",
   "language": "python",
   "name": "python3"
  },
  "language_info": {
   "codemirror_mode": {
    "name": "ipython",
    "version": 3
   },
   "file_extension": ".py",
   "mimetype": "text/x-python",
   "name": "python",
   "nbconvert_exporter": "python",
   "pygments_lexer": "ipython3",
   "version": "3.12.4"
  }
 },
 "nbformat": 4,
 "nbformat_minor": 1
}
